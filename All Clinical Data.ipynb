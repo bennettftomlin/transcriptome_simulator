{
 "cells": [
  {
   "cell_type": "code",
   "execution_count": 1,
   "metadata": {},
   "outputs": [],
   "source": [
    "import psycopg2 as psy\n",
    "import sqlalchemy\n",
    "import numpy as np\n",
    "import pandas as pd\n",
    "import time\n",
    "import random\n",
    "import datetime"
   ]
  },
  {
   "cell_type": "code",
   "execution_count": 4,
   "metadata": {},
   "outputs": [
    {
     "name": "stdout",
     "output_type": "stream",
     "text": [
      "Error while connecting to PostgreSQL syntax error at or near \"=\"\n",
      "LINE 1: ...al_hadm_visit.subject_id = chartevents.subject_id = diagnose...\n",
      "                                                             ^\n",
      "\n",
      "PostgreSQL connection is closed\n"
     ]
    }
   ],
   "source": [
    "#test the connection with default mimic build options\n",
    "try:\n",
    "    connection = psy.connect(user = \"postgres\",\n",
    "                                  password = \"postgres\",\n",
    "                                  host = \"127.0.0.1\",\n",
    "                                  port = \"5432\",\n",
    "                                  database = \"mimic\")\n",
    "    cursor = connection.cursor()\n",
    "    cursor1 = connection.cursor()\n",
    "    postgreSQL_select_Query = \"select pneumonia_bal_hadm_visit.subject_id, pneumonia_bal_hadm_visit.hadm_id, chartevents.icustay_id, chartevents.itemid, chartevents.charttime, chartevents.storetime, chartevents.cgied, chartevents.valuenum, chartevents.valueuom, chartevents.warning, chartevents.error, chartevents.resultstatus, chartevents.stopped, diagnoses_icd.icd9_code, procedures_icd.icd9_code, services.transfertime, services.prev_service, services.curr_service, drgcodes.drg_type, drgcodes.drg_code, drgcodes.description, drgcodes.drg_severity, drgcodes.drg_mortality, patients.gender, patients.dob, patients.dod, patients.dod_hosp, patients.dod_ssen, patients.expire_flag, labevents.itemid, labevents.charttime, labevents.value, labevents.valuenum, labevents.valueom, labevents.flag, noteevents.chartdate, noteevents.charttime, noteevents.storetime, noteevents.category, noteevents.description, noteevents.cgid, noteevents.iserror, noteevents.text, cptevents.costcenter, cptevents.cpt_cd, cptevents.cpt_number, cptevents.cpt_suffix, cptevents.ticket_id_seq, cptevents.sectionheader, cptevents.subsectionheader, cptevents.description, icustays.icustay_id, icustays.dbsource, icustays.first_careunit, icustays.last_careunit, icustays.first_wardid, icustays.last_wardid, icustays.intime, icustays.outtime, icustays.los, outputevents.charttime, outputevents.itemid, outputevents.value, outputevents.valueuom, outputevents.storetime, outputevents.cgid, outputevents.stopped, outputevents.newbottle, outputevents.iserror, transfers.dbsource, transfers.eventtype, transfers.prev_careunit, transfers.curr_careunit, transfers.prev_wardid, transfers.curr_wardid, transfers.intime, transfers.outtime, transfers.los, datetimeevents.charttime, datetimeevents.storetime, datetimeevents.cgid, datetimeevents.value, datetimeevents.valueuom, datetimeevents.warning, datetimeevents.error, datetimeevents.resultstatus, datetimeevents.stopped, microbiologyevents.chartdate, microbiologyevents.charttime, microbiologyevents.spec_itemid, microbiologyevents.spec_type_desc, microbiologyevents.org_itemid, microbiologyevents.org_name, microbiologyevents.isolate_num, microbiologyevents.ab_itemid, microbiologyevents.ab_name, microbiologyevents.dilution_text, microbiologyevents.dilution_comparison, microbiologyevents.dilution_value, microbiologyevents.interpertation, admissions.admittime, admissions.dischtime, admissions.deathtime, admissions.admission_type, admissions.admission_location, admissions.discharge_location, admissions.insurance, admissions.language, admissions.religion, admissions.marital_status, admissions.ethnicity, admissions.edregtime, admissions.edouttime, admissions.diagnosis, admissions.hospital_expire_flag, admissions.has_chartevents_data from mimiciii.pneumonia_bal_hadm_visit, mimiciii.chartevents, mimiciii.diagnoses_icd, mimiciii.procedures_icd, mimiciii.services, mimiciii.drgcodes, mimiciii.patients, mimiciii.labevents, mimiciii.noteevents, mimiciii.cptevents, mimiciii.icustays, mimiciii.outputevents, mimiciii.transfers, mimiciii.datetimeevents, mimiciii.microbiologyevents, mimiciii.admissions where pneumonia_bal_hadm_visit.subject_id = chartevents.subject_id = diagnoses_icd.subject_id = procedures_icd.subject_id = services.subject_id = drgcodes.subject_id = patients.subject_id = labevents.subject_id = noteevents.subject_id = cptevents.subject_id = icustays.subject_id = outputevents.subject_id = transfers.subject_id = datetimeevents.subject_id = microbiologyevents.subject_id = admissions.subject_id and pneumonia_bal_hadm_visit.hadm_id = chartevents.hadm_id = diagnoses_icd.hadm_id = procedures_icd.hadm_id = services.hadm_id = drgcodes.hadm_id = patients.hadm_id = labevents.hadm_id = noteevents.hadm_id = cptevents.hadm_id = icustays.hadm_id = outputevents.hadm_id = transfers.hadm_id = datetimeevents.hadm_id = microbiologyevents.hadm_id = admissions.hadm_id and pneumonia_bal_hadm_visit.visit = 1\"\n",
    "    cursor1.execute(postgreSQL_select_Query)\n",
    "    patient_info = cursor1.fetchall()\n",
    "except (Exception, psy.Error) as error :\n",
    "    print (\"Error while connecting to PostgreSQL\", error)\n",
    "finally:\n",
    "    #closing database connection.\n",
    "        if(connection):\n",
    "            cursor.close()\n",
    "            connection.close()\n",
    "            print(\"PostgreSQL connection is closed\")"
   ]
  },
  {
   "cell_type": "code",
   "execution_count": null,
   "metadata": {},
   "outputs": [],
   "source": []
  }
 ],
 "metadata": {
  "kernelspec": {
   "display_name": "Python 3",
   "language": "python",
   "name": "python3"
  },
  "language_info": {
   "codemirror_mode": {
    "name": "ipython",
    "version": 3
   },
   "file_extension": ".py",
   "mimetype": "text/x-python",
   "name": "python",
   "nbconvert_exporter": "python",
   "pygments_lexer": "ipython3",
   "version": "3.7.3"
  }
 },
 "nbformat": 4,
 "nbformat_minor": 2
}
