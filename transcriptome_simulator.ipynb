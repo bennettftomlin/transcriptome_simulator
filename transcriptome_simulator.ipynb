{
 "cells": [
  {
   "cell_type": "code",
   "execution_count": 1,
   "metadata": {},
   "outputs": [],
   "source": [
    "import numpy as np\n",
    "import pandas as pd\n",
    "import time\n",
    "import random\n",
    "import scipy.stats\n",
    "import matplotlib.pyplot as plt\n",
    "%matplotlib inline"
   ]
  },
  {
   "cell_type": "code",
   "execution_count": 2,
   "metadata": {},
   "outputs": [
    {
     "name": "stdout",
     "output_type": "stream",
     "text": [
      "What minimum percentage noise would you like? 0\n",
      "What maximum percentage of noise would you like? 10\n"
     ]
    }
   ],
   "source": [
    "#take as input the minimum change in each value and the maximum\n",
    "minimum_noise = (int(input(\"What minimum percentage noise would you like? \")))\n",
    "maximum_noise = (int(input(\"What maximum percentage of noise would you like? \")))"
   ]
  },
  {
   "cell_type": "code",
   "execution_count": 3,
   "metadata": {},
   "outputs": [],
   "source": [
    "#key is the original data, template has the same structure (meaning same rows, but more columns) but has no data yet\n",
    "key = pd.read_csv(\"FPMK_key.csv\")\n",
    "template = pd.read_csv(\"fpmk_template.csv\")"
   ]
  },
  {
   "cell_type": "code",
   "execution_count": 4,
   "metadata": {},
   "outputs": [],
   "source": [
    "def simulate_transcriptome_1(df1, df2):\n",
    "    \"\"\"Takes as input the template (first), and the key (second) dataframes\"\"\"\n",
    "    results=[]\n",
    "    #sets the max index we will access, need to subtract 1 because we index from zero\n",
    "    l = df2.shape[1] -1\n",
    "    #this is the function that is used to assign new values to the template\n",
    "    def assign_value(item):\n",
    "        #chooses random index from useful range of key\n",
    "        random_num = random.randint(2, l)\n",
    "        #selects value from key\n",
    "        random_val = key_tup[random_num]\n",
    "        #chooses value in range defined by noise\n",
    "        random_noise = random.randint(minimum_noise, maximum_noise)\n",
    "        #generates a random value so we can randomly either increase or decrease the value\n",
    "        random_branch = random.random()\n",
    "        if random_branch>0.5:\n",
    "            positive_noise= 1 + (random_noise/100)\n",
    "            item = random_val*positive_noise\n",
    "        else:\n",
    "            negative_noise = 1 - (random_noise/100)\n",
    "            item = random_val * negative_noise\n",
    "        return item\n",
    "    #adds headers to results list\n",
    "    results.append(tuple(list(df1)))\n",
    "    #iterates over every row in template dataframe\n",
    "    for row in df1.itertuples():\n",
    "        row_list=[]\n",
    "        row_list = list(row)\n",
    "        row_num = int(row[0])\n",
    "        #selects values from corresponding row in key\n",
    "        key_tup=df2.iloc[row_num]\n",
    "        #list comprehension for each row in template\n",
    "        row_list = row_list[1:3] + [assign_value(i) for i in row_list[3:]]\n",
    "        #changes each list to tuple to make dataframe creation easier\n",
    "        row_tuple=tuple(row_list)\n",
    "        results.append(row_tuple)\n",
    "    results = pd.DataFrame(results)\n",
    "    return results"
   ]
  },
  {
   "cell_type": "code",
   "execution_count": 5,
   "metadata": {},
   "outputs": [
    {
     "name": "stdout",
     "output_type": "stream",
     "text": [
      "369.5670700073242\n"
     ]
    }
   ],
   "source": [
    "start=time.time()\n",
    "results = simulate_transcriptome_1(template, key)\n",
    "end=time.time()\n",
    "print(end-start)"
   ]
  },
  {
   "cell_type": "code",
   "execution_count": null,
   "metadata": {},
   "outputs": [],
   "source": [
    "results.to_csv(\"results.csv\", index=False, header=False)"
   ]
  },
  {
   "cell_type": "code",
   "execution_count": null,
   "metadata": {},
   "outputs": [],
   "source": [
    "def t_test_df(df1, df2):\n",
    "    results=[]\n",
    "    names = list(df1.columns.values.tolist())\n",
    "    names.append('p_value')\n",
    "    names = tuple(names)\n",
    "    results.append(names)\n",
    "    for row in df1.itertuples():\n",
    "        row_list=[]\n",
    "        row_list=list(row[1:])\n",
    "        row_num=int(row[0])\n",
    "        key_tup=df2.iloc[row_num]\n",
    "        t_test_results=scipy.stats.ttest_ind(key_tup[2:], row_list[2:], equal_var=False)\n",
    "        row_list.append(t_test_results[1])\n",
    "        row_tuple=tuple(row_list)\n",
    "        results.append(row_tuple)\n",
    "    results=pd.DataFrame(results)\n",
    "    return results"
   ]
  },
  {
   "cell_type": "code",
   "execution_count": null,
   "metadata": {},
   "outputs": [
    {
     "name": "stdout",
     "output_type": "stream",
     "text": [
      "54.44946312904358\n"
     ]
    }
   ],
   "source": [
    "results=pd.read_csv(\"results.csv\")\n",
    "start=time.time()\n",
    "t_test=t_test_df(results, key)\n",
    "end=time.time()\n",
    "print(end-start)\n",
    "t_test.to_csv(\"p_value\", header=False, index=False)"
   ]
  },
  {
   "cell_type": "code",
   "execution_count": null,
   "metadata": {},
   "outputs": [],
   "source": [
    "t_test=pd.read_csv(\"p_value\")\n",
    "t_test.set_index('Symbol', inplace=True)"
   ]
  },
  {
   "cell_type": "code",
   "execution_count": null,
   "metadata": {},
   "outputs": [],
   "source": [
    "t_test['p_value'].describe()"
   ]
  },
  {
   "cell_type": "code",
   "execution_count": null,
   "metadata": {},
   "outputs": [],
   "source": [
    "plot  = plt.hist(t_test['p_value'], bins=100, range = {0,1})\n",
    "plot"
   ]
  },
  {
   "cell_type": "code",
   "execution_count": null,
   "metadata": {},
   "outputs": [],
   "source": []
  }
 ],
 "metadata": {
  "kernelspec": {
   "display_name": "Python 3",
   "language": "python",
   "name": "python3"
  },
  "language_info": {
   "codemirror_mode": {
    "name": "ipython",
    "version": 3
   },
   "file_extension": ".py",
   "mimetype": "text/x-python",
   "name": "python",
   "nbconvert_exporter": "python",
   "pygments_lexer": "ipython3",
   "version": "3.7.3"
  }
 },
 "nbformat": 4,
 "nbformat_minor": 2
}
